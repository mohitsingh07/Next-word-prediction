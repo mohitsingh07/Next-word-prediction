{
 "cells": [
  {
   "cell_type": "code",
   "execution_count": null,
   "metadata": {
    "id": "vVwAlSQuLs3c"
   },
   "outputs": [],
   "source": []
  },
  {
   "cell_type": "code",
   "execution_count": 1,
   "metadata": {
    "executionInfo": {
     "elapsed": 4041,
     "status": "ok",
     "timestamp": 1696532615924,
     "user": {
      "displayName": "Mohit singh",
      "userId": "07789003366344055956"
     },
     "user_tz": -330
    },
    "id": "jKGOB1gjLxVQ"
   },
   "outputs": [],
   "source": [
    "import numpy as np\n",
    "import tensorflow as tf\n",
    "from tensorflow.keras.preprocessing.text import Tokenizer\n",
    "from tensorflow.keras.preprocessing.sequence import pad_sequences\n",
    "from tensorflow.keras.models import Sequential\n",
    "from tensorflow.keras.layers import Embedding, LSTM, Dense\n"
   ]
  },
  {
   "cell_type": "code",
   "execution_count": 2,
   "metadata": {
    "executionInfo": {
     "elapsed": 1136,
     "status": "ok",
     "timestamp": 1696532617058,
     "user": {
      "displayName": "Mohit singh",
      "userId": "07789003366344055956"
     },
     "user_tz": -330
    },
    "id": "LRcMevu2MpZM"
   },
   "outputs": [],
   "source": [
    "with open('sherlock-holm.es_stories_plain-text_advs.txt', 'r', encoding='utf-8') as file:\n",
    "    text = file.read()"
   ]
  },
  {
   "cell_type": "code",
   "execution_count": 3,
   "metadata": {
    "executionInfo": {
     "elapsed": 8,
     "status": "ok",
     "timestamp": 1696532617058,
     "user": {
      "displayName": "Mohit singh",
      "userId": "07789003366344055956"
     },
     "user_tz": -330
    },
    "id": "faVEEEvuNT6J"
   },
   "outputs": [],
   "source": [
    "tokenizer = Tokenizer()\n",
    "tokenizer.fit_on_texts([text])\n",
    "total_words = len(tokenizer.word_index) + 1"
   ]
  },
  {
   "cell_type": "code",
   "execution_count": 4,
   "metadata": {
    "executionInfo": {
     "elapsed": 6,
     "status": "ok",
     "timestamp": 1696532617058,
     "user": {
      "displayName": "Mohit singh",
      "userId": "07789003366344055956"
     },
     "user_tz": -330
    },
    "id": "5ERU6tKRNYAl"
   },
   "outputs": [],
   "source": [
    "input_sequences = []\n",
    "for line in text.split('\\n'):\n",
    "    token_list = tokenizer.texts_to_sequences([line])[0]\n",
    "    for i in range(1, len(token_list)):\n",
    "        n_gram_sequence = token_list[:i+1]\n",
    "        input_sequences.append(n_gram_sequence)"
   ]
  },
  {
   "cell_type": "code",
   "execution_count": 5,
   "metadata": {
    "executionInfo": {
     "elapsed": 852,
     "status": "ok",
     "timestamp": 1696532617905,
     "user": {
      "displayName": "Mohit singh",
      "userId": "07789003366344055956"
     },
     "user_tz": -330
    },
    "id": "hFC2tPFWNbsb"
   },
   "outputs": [],
   "source": [
    "max_sequence_len = max([len(seq) for seq in input_sequences])\n",
    "input_sequences = np.array(pad_sequences(input_sequences, maxlen=max_sequence_len, padding='pre'))"
   ]
  },
  {
   "cell_type": "code",
   "execution_count": 6,
   "metadata": {
    "executionInfo": {
     "elapsed": 5,
     "status": "ok",
     "timestamp": 1696532617906,
     "user": {
      "displayName": "Mohit singh",
      "userId": "07789003366344055956"
     },
     "user_tz": -330
    },
    "id": "4SkoyzBSNgBm"
   },
   "outputs": [],
   "source": [
    "X = input_sequences[:, :-1]\n",
    "y = input_sequences[:, -1]"
   ]
  },
  {
   "cell_type": "code",
   "execution_count": 7,
   "metadata": {
    "executionInfo": {
     "elapsed": 1133,
     "status": "ok",
     "timestamp": 1696532619035,
     "user": {
      "displayName": "Mohit singh",
      "userId": "07789003366344055956"
     },
     "user_tz": -330
    },
    "id": "ew4eBy3sNi04"
   },
   "outputs": [],
   "source": [
    "y = np.array(tf.keras.utils.to_categorical(y, num_classes=total_words))"
   ]
  },
  {
   "cell_type": "code",
   "execution_count": 8,
   "metadata": {
    "colab": {
     "base_uri": "https://localhost:8080/"
    },
    "executionInfo": {
     "elapsed": 3679,
     "status": "ok",
     "timestamp": 1696532622712,
     "user": {
      "displayName": "Mohit singh",
      "userId": "07789003366344055956"
     },
     "user_tz": -330
    },
    "id": "haZTjCwYNrXF",
    "outputId": "a292da0a-fca9-4473-a002-5d19968f2771"
   },
   "outputs": [
    {
     "name": "stdout",
     "output_type": "stream",
     "text": [
      "Model: \"sequential\"\n",
      "_________________________________________________________________\n",
      " Layer (type)                Output Shape              Param #   \n",
      "=================================================================\n",
      " embedding (Embedding)       (None, 17, 100)           820000    \n",
      "                                                                 \n",
      " lstm (LSTM)                 (None, 150)               150600    \n",
      "                                                                 \n",
      " dense (Dense)               (None, 8200)              1238200   \n",
      "                                                                 \n",
      "=================================================================\n",
      "Total params: 2,208,800\n",
      "Trainable params: 2,208,800\n",
      "Non-trainable params: 0\n",
      "_________________________________________________________________\n",
      "None\n"
     ]
    }
   ],
   "source": [
    "model = Sequential()\n",
    "model.add(Embedding(total_words, 100, input_length=max_sequence_len-1))\n",
    "model.add(LSTM(150))\n",
    "model.add(Dense(total_words, activation='softmax'))\n",
    "print(model.summary())"
   ]
  },
  {
   "cell_type": "code",
   "execution_count": 9,
   "metadata": {
    "colab": {
     "base_uri": "https://localhost:8080/"
    },
    "executionInfo": {
     "elapsed": 2250924,
     "status": "ok",
     "timestamp": 1696534873633,
     "user": {
      "displayName": "Mohit singh",
      "userId": "07789003366344055956"
     },
     "user_tz": -330
    },
    "id": "PuoCu7xmNuja",
    "outputId": "4dafd516-27c8-4736-a4e8-7ac628900dfa"
   },
   "outputs": [
    {
     "name": "stdout",
     "output_type": "stream",
     "text": [
      "Epoch 1/100\n",
      "3010/3010 [==============================] - 146s 48ms/step - loss: 6.2292 - accuracy: 0.0767\n",
      "Epoch 2/100\n",
      "3010/3010 [==============================] - 141s 47ms/step - loss: 5.4952 - accuracy: 0.1257\n",
      "Epoch 3/100\n",
      "3010/3010 [==============================] - 144s 48ms/step - loss: 5.1122 - accuracy: 0.1481\n",
      "Epoch 4/100\n",
      "3010/3010 [==============================] - 144s 48ms/step - loss: 4.7855 - accuracy: 0.1659\n",
      "Epoch 5/100\n",
      "3010/3010 [==============================] - 141s 47ms/step - loss: 4.4877 - accuracy: 0.1824\n",
      "Epoch 6/100\n",
      "3010/3010 [==============================] - 144s 48ms/step - loss: 4.2045 - accuracy: 0.2016\n",
      "Epoch 7/100\n",
      "3010/3010 [==============================] - 143s 47ms/step - loss: 3.9320 - accuracy: 0.2291\n",
      "Epoch 8/100\n",
      "3010/3010 [==============================] - 143s 48ms/step - loss: 3.6741 - accuracy: 0.2583\n",
      "Epoch 9/100\n",
      "3010/3010 [==============================] - 143s 47ms/step - loss: 3.4322 - accuracy: 0.2912\n",
      "Epoch 10/100\n",
      "3010/3010 [==============================] - 138s 46ms/step - loss: 3.2064 - accuracy: 0.3259\n",
      "Epoch 11/100\n",
      "3010/3010 [==============================] - 144s 48ms/step - loss: 2.9974 - accuracy: 0.3610\n",
      "Epoch 12/100\n",
      "3010/3010 [==============================] - 145s 48ms/step - loss: 2.8050 - accuracy: 0.3953\n",
      "Epoch 13/100\n",
      "3010/3010 [==============================] - 142s 47ms/step - loss: 2.6248 - accuracy: 0.4286\n",
      "Epoch 14/100\n",
      "3010/3010 [==============================] - 143s 48ms/step - loss: 2.4653 - accuracy: 0.4581\n",
      "Epoch 15/100\n",
      "3010/3010 [==============================] - 143s 47ms/step - loss: 2.3105 - accuracy: 0.4886\n",
      "Epoch 16/100\n",
      "3010/3010 [==============================] - 140s 46ms/step - loss: 2.1724 - accuracy: 0.5180\n",
      "Epoch 17/100\n",
      "3010/3010 [==============================] - 141s 47ms/step - loss: 2.0468 - accuracy: 0.5434\n",
      "Epoch 18/100\n",
      "3010/3010 [==============================] - 138s 46ms/step - loss: 1.9281 - accuracy: 0.5679\n",
      "Epoch 19/100\n",
      "3010/3010 [==============================] - 136s 45ms/step - loss: 1.8203 - accuracy: 0.5908\n",
      "Epoch 20/100\n",
      "3010/3010 [==============================] - 141s 47ms/step - loss: 1.7201 - accuracy: 0.6157\n",
      "Epoch 21/100\n",
      "3010/3010 [==============================] - 141s 47ms/step - loss: 1.6306 - accuracy: 0.6332\n",
      "Epoch 22/100\n",
      "3010/3010 [==============================] - 140s 46ms/step - loss: 1.5462 - accuracy: 0.6519\n",
      "Epoch 23/100\n",
      "3010/3010 [==============================] - 140s 46ms/step - loss: 1.4675 - accuracy: 0.6686\n",
      "Epoch 24/100\n",
      "3010/3010 [==============================] - 141s 47ms/step - loss: 1.3970 - accuracy: 0.6835\n",
      "Epoch 25/100\n",
      "3010/3010 [==============================] - 135s 45ms/step - loss: 1.3310 - accuracy: 0.6989\n",
      "Epoch 26/100\n",
      "3010/3010 [==============================] - 140s 46ms/step - loss: 1.2709 - accuracy: 0.7112\n",
      "Epoch 27/100\n",
      "3010/3010 [==============================] - 143s 48ms/step - loss: 1.2160 - accuracy: 0.7234\n",
      "Epoch 28/100\n",
      "3010/3010 [==============================] - 150s 50ms/step - loss: 1.1634 - accuracy: 0.7350\n",
      "Epoch 29/100\n",
      "3010/3010 [==============================] - 146s 48ms/step - loss: 1.1176 - accuracy: 0.7445\n",
      "Epoch 30/100\n",
      "3010/3010 [==============================] - 145s 48ms/step - loss: 1.0719 - accuracy: 0.7563\n",
      "Epoch 31/100\n",
      "3010/3010 [==============================] - 142s 47ms/step - loss: 1.0331 - accuracy: 0.7630\n",
      "Epoch 32/100\n",
      "3010/3010 [==============================] - 140s 47ms/step - loss: 0.9962 - accuracy: 0.7721\n",
      "Epoch 33/100\n",
      "3010/3010 [==============================] - 146s 48ms/step - loss: 0.9601 - accuracy: 0.7806\n",
      "Epoch 34/100\n",
      "3010/3010 [==============================] - 147s 49ms/step - loss: 0.9294 - accuracy: 0.7866\n",
      "Epoch 35/100\n",
      "3010/3010 [==============================] - 146s 48ms/step - loss: 0.8991 - accuracy: 0.7945\n",
      "Epoch 36/100\n",
      "3010/3010 [==============================] - 145s 48ms/step - loss: 0.8739 - accuracy: 0.7993\n",
      "Epoch 37/100\n",
      "3010/3010 [==============================] - 144s 48ms/step - loss: 0.8476 - accuracy: 0.8045\n",
      "Epoch 38/100\n",
      "3010/3010 [==============================] - 140s 46ms/step - loss: 0.8278 - accuracy: 0.8086\n",
      "Epoch 39/100\n",
      "3010/3010 [==============================] - 146s 48ms/step - loss: 0.8053 - accuracy: 0.8129\n",
      "Epoch 40/100\n",
      "3010/3010 [==============================] - 145s 48ms/step - loss: 0.7846 - accuracy: 0.8180\n",
      "Epoch 41/100\n",
      "3010/3010 [==============================] - 145s 48ms/step - loss: 0.7690 - accuracy: 0.8204\n",
      "Epoch 42/100\n",
      "3010/3010 [==============================] - 145s 48ms/step - loss: 0.7514 - accuracy: 0.8251\n",
      "Epoch 43/100\n",
      "3010/3010 [==============================] - 153s 51ms/step - loss: 0.7334 - accuracy: 0.8288\n",
      "Epoch 44/100\n",
      "3010/3010 [==============================] - 140s 47ms/step - loss: 0.7228 - accuracy: 0.8311\n",
      "Epoch 45/100\n",
      "3010/3010 [==============================] - 145s 48ms/step - loss: 0.7099 - accuracy: 0.8328\n",
      "Epoch 46/100\n",
      "3010/3010 [==============================] - 158s 52ms/step - loss: 0.6933 - accuracy: 0.8376\n",
      "Epoch 47/100\n",
      "3010/3010 [==============================] - 148s 49ms/step - loss: 0.6863 - accuracy: 0.8377\n",
      "Epoch 48/100\n",
      "3010/3010 [==============================] - 145s 48ms/step - loss: 0.6743 - accuracy: 0.8389\n",
      "Epoch 49/100\n",
      "3010/3010 [==============================] - 145s 48ms/step - loss: 0.6638 - accuracy: 0.8423\n",
      "Epoch 50/100\n",
      "3010/3010 [==============================] - 140s 46ms/step - loss: 0.6565 - accuracy: 0.8437\n",
      "Epoch 51/100\n",
      "3010/3010 [==============================] - 140s 47ms/step - loss: 0.6448 - accuracy: 0.8456\n",
      "Epoch 52/100\n",
      "3010/3010 [==============================] - 145s 48ms/step - loss: 0.6414 - accuracy: 0.8461\n",
      "Epoch 53/100\n",
      "3010/3010 [==============================] - 140s 47ms/step - loss: 0.6305 - accuracy: 0.8486\n",
      "Epoch 54/100\n",
      "3010/3010 [==============================] - 140s 47ms/step - loss: 0.6328 - accuracy: 0.8467\n",
      "Epoch 55/100\n",
      "3010/3010 [==============================] - 136s 45ms/step - loss: 0.6161 - accuracy: 0.8511\n",
      "Epoch 56/100\n",
      "3010/3010 [==============================] - 138s 46ms/step - loss: 0.6098 - accuracy: 0.8521\n",
      "Epoch 57/100\n",
      "3010/3010 [==============================] - 137s 46ms/step - loss: 0.6075 - accuracy: 0.8527\n",
      "Epoch 58/100\n",
      "3010/3010 [==============================] - 139s 46ms/step - loss: 0.6008 - accuracy: 0.8543\n",
      "Epoch 59/100\n",
      "3010/3010 [==============================] - 139s 46ms/step - loss: 0.5977 - accuracy: 0.8542\n",
      "Epoch 60/100\n",
      "3010/3010 [==============================] - 139s 46ms/step - loss: 0.5916 - accuracy: 0.8551\n",
      "Epoch 61/100\n",
      "3010/3010 [==============================] - 141s 47ms/step - loss: 0.5870 - accuracy: 0.8555\n",
      "Epoch 62/100\n",
      "3010/3010 [==============================] - 140s 46ms/step - loss: 0.5862 - accuracy: 0.8558\n",
      "Epoch 63/100\n",
      "3010/3010 [==============================] - 136s 45ms/step - loss: 0.5831 - accuracy: 0.8556\n",
      "Epoch 64/100\n",
      "3010/3010 [==============================] - 140s 47ms/step - loss: 0.5743 - accuracy: 0.8574\n",
      "Epoch 65/100\n",
      "3010/3010 [==============================] - 140s 47ms/step - loss: 0.5727 - accuracy: 0.8573\n",
      "Epoch 66/100\n",
      "3010/3010 [==============================] - 144s 48ms/step - loss: 0.5700 - accuracy: 0.8578\n",
      "Epoch 67/100\n",
      "3010/3010 [==============================] - 128s 43ms/step - loss: 0.5682 - accuracy: 0.8577\n",
      "Epoch 68/100\n",
      "3010/3010 [==============================] - 125s 42ms/step - loss: 0.5648 - accuracy: 0.8579\n",
      "Epoch 69/100\n",
      "3010/3010 [==============================] - 124s 41ms/step - loss: 0.5648 - accuracy: 0.8578\n",
      "Epoch 70/100\n",
      "3010/3010 [==============================] - 123s 41ms/step - loss: 0.5638 - accuracy: 0.8577\n",
      "Epoch 71/100\n",
      "3010/3010 [==============================] - 124s 41ms/step - loss: 0.5610 - accuracy: 0.8579\n",
      "Epoch 72/100\n",
      "3010/3010 [==============================] - 124s 41ms/step - loss: 0.5540 - accuracy: 0.8598\n",
      "Epoch 73/100\n",
      "3010/3010 [==============================] - 123s 41ms/step - loss: 0.5562 - accuracy: 0.8594\n",
      "Epoch 74/100\n",
      "3010/3010 [==============================] - 125s 41ms/step - loss: 0.5518 - accuracy: 0.8606\n",
      "Epoch 75/100\n",
      "3010/3010 [==============================] - 124s 41ms/step - loss: 0.5501 - accuracy: 0.8601\n",
      "Epoch 76/100\n",
      "3010/3010 [==============================] - 125s 41ms/step - loss: 0.5413 - accuracy: 0.8622\n",
      "Epoch 77/100\n"
     ]
    },
    {
     "name": "stdout",
     "output_type": "stream",
     "text": [
      "3010/3010 [==============================] - 124s 41ms/step - loss: 0.5467 - accuracy: 0.8615\n",
      "Epoch 78/100\n",
      "3010/3010 [==============================] - 121s 40ms/step - loss: 0.5429 - accuracy: 0.8613\n",
      "Epoch 79/100\n",
      "3010/3010 [==============================] - 123s 41ms/step - loss: 0.5431 - accuracy: 0.8607\n",
      "Epoch 80/100\n",
      "3010/3010 [==============================] - 125s 42ms/step - loss: 0.5391 - accuracy: 0.8627\n",
      "Epoch 81/100\n",
      "3010/3010 [==============================] - 124s 41ms/step - loss: 0.5428 - accuracy: 0.8600\n",
      "Epoch 82/100\n",
      "3010/3010 [==============================] - 124s 41ms/step - loss: 0.5340 - accuracy: 0.8631\n",
      "Epoch 83/100\n",
      "3010/3010 [==============================] - 125s 42ms/step - loss: 0.5419 - accuracy: 0.8596\n",
      "Epoch 84/100\n",
      "3010/3010 [==============================] - 121s 40ms/step - loss: 0.5332 - accuracy: 0.8627\n",
      "Epoch 85/100\n",
      "3010/3010 [==============================] - 125s 41ms/step - loss: 0.5283 - accuracy: 0.8649\n",
      "Epoch 86/100\n",
      "3010/3010 [==============================] - 125s 41ms/step - loss: 0.5328 - accuracy: 0.8626\n",
      "Epoch 87/100\n",
      "3010/3010 [==============================] - 124s 41ms/step - loss: 0.5293 - accuracy: 0.8636\n",
      "Epoch 88/100\n",
      "3010/3010 [==============================] - 125s 41ms/step - loss: 0.5284 - accuracy: 0.8628\n",
      "Epoch 89/100\n",
      "3010/3010 [==============================] - 123s 41ms/step - loss: 0.5305 - accuracy: 0.8622\n",
      "Epoch 90/100\n",
      "3010/3010 [==============================] - 126s 42ms/step - loss: 0.5283 - accuracy: 0.8622\n",
      "Epoch 91/100\n",
      "3010/3010 [==============================] - 123s 41ms/step - loss: 0.5234 - accuracy: 0.8643\n",
      "Epoch 92/100\n",
      "3010/3010 [==============================] - 121s 40ms/step - loss: 0.5279 - accuracy: 0.8625\n",
      "Epoch 93/100\n",
      "3010/3010 [==============================] - 121s 40ms/step - loss: 0.5226 - accuracy: 0.8640\n",
      "Epoch 94/100\n",
      "3010/3010 [==============================] - 123s 41ms/step - loss: 0.5228 - accuracy: 0.8638\n",
      "Epoch 95/100\n",
      "3010/3010 [==============================] - 123s 41ms/step - loss: 0.5277 - accuracy: 0.8620\n",
      "Epoch 96/100\n",
      "3010/3010 [==============================] - 165s 55ms/step - loss: 0.5215 - accuracy: 0.8641\n",
      "Epoch 97/100\n",
      "3010/3010 [==============================] - 168s 56ms/step - loss: 0.5274 - accuracy: 0.8617\n",
      "Epoch 98/100\n",
      "3010/3010 [==============================] - 170s 56ms/step - loss: 0.5227 - accuracy: 0.8637\n",
      "Epoch 99/100\n",
      "3010/3010 [==============================] - 166s 55ms/step - loss: 0.5236 - accuracy: 0.8618\n",
      "Epoch 100/100\n",
      "3010/3010 [==============================] - 174s 58ms/step - loss: 0.5226 - accuracy: 0.8632\n"
     ]
    },
    {
     "data": {
      "text/plain": [
       "<keras.callbacks.History at 0x206f82f8610>"
      ]
     },
     "execution_count": 9,
     "metadata": {},
     "output_type": "execute_result"
    }
   ],
   "source": [
    "model.compile(loss='categorical_crossentropy', optimizer='adam', metrics=['accuracy'])\n",
    "model.fit(X, y, epochs=100, verbose=1)"
   ]
  },
  {
   "cell_type": "code",
   "execution_count": 10,
   "metadata": {
    "colab": {
     "base_uri": "https://localhost:8080/"
    },
    "executionInfo": {
     "elapsed": 4,
     "status": "ok",
     "timestamp": 1696535025555,
     "user": {
      "displayName": "Mohit singh",
      "userId": "07789003366344055956"
     },
     "user_tz": -330
    },
    "id": "QF900a6PNz89",
    "outputId": "80249d0c-21da-49b9-a034-b5a75fe3acc3"
   },
   "outputs": [
    {
     "name": "stdout",
     "output_type": "stream",
     "text": [
      "1/1 [==============================] - 2s 2s/step\n",
      "1/1 [==============================] - 0s 47ms/step\n",
      "1/1 [==============================] - 0s 47ms/step\n",
      "speed down home in\n"
     ]
    }
   ],
   "source": [
    "seed_text = \"speed\"\n",
    "next_words = 3\n",
    "\n",
    "for _ in range(next_words):\n",
    "    token_list = tokenizer.texts_to_sequences([seed_text])[0]\n",
    "    token_list = pad_sequences([token_list], maxlen=max_sequence_len-1, padding='pre')\n",
    "    predicted = np.argmax(model.predict(token_list), axis=-1)\n",
    "    output_word = \"\"\n",
    "    for word, index in tokenizer.word_index.items():\n",
    "        if index == predicted:\n",
    "            output_word = word\n",
    "            break\n",
    "    seed_text += \" \" + output_word\n",
    "\n",
    "print(seed_text)"
   ]
  },
  {
   "cell_type": "code",
   "execution_count": 11,
   "metadata": {
    "id": "JTE5HGW2XKQT"
   },
   "outputs": [
    {
     "name": "stdout",
     "output_type": "stream",
     "text": [
      "Classifier stored at  next_word_prediction_model.pickle\n"
     ]
    }
   ],
   "source": [
    "import pickle\n",
    "\n",
    "# Save the next word prediction model to a file\n",
    "f = open('next_word_prediction_model.pickle', 'wb')\n",
    "pickle.dump(model, f)\n",
    "print('Classifier stored at ', f.name)\n",
    "f.close()"
   ]
  },
  {
   "cell_type": "code",
   "execution_count": null,
   "metadata": {},
   "outputs": [],
   "source": []
  }
 ],
 "metadata": {
  "accelerator": "GPU",
  "colab": {
   "authorship_tag": "ABX9TyNO59c4PMDcz2FdLzXg/4wk",
   "gpuType": "T4",
   "provenance": []
  },
  "kernelspec": {
   "display_name": "Python 3 (ipykernel)",
   "language": "python",
   "name": "python3"
  },
  "language_info": {
   "codemirror_mode": {
    "name": "ipython",
    "version": 3
   },
   "file_extension": ".py",
   "mimetype": "text/x-python",
   "name": "python",
   "nbconvert_exporter": "python",
   "pygments_lexer": "ipython3",
   "version": "3.9.7"
  }
 },
 "nbformat": 4,
 "nbformat_minor": 1
}
